{
 "cells": [
  {
   "cell_type": "markdown",
   "id": "db1dfc9d",
   "metadata": {},
   "source": [
    "# requested  library"
   ]
  },
  {
   "cell_type": "code",
   "execution_count": 8,
   "id": "1b4f84b9",
   "metadata": {},
   "outputs": [],
   "source": [
    "from bs4 import BeautifulSoup\n",
    "import requests\n",
    "import pandas as pd"
   ]
  },
  {
   "cell_type": "code",
   "execution_count": null,
   "id": "09c7a37f",
   "metadata": {},
   "outputs": [],
   "source": [
    "# url of desired website\n",
    "url=\"https://www.reliancedigital.in/air-conditioners/c/S101510\""
   ]
  }
 ],
 "metadata": {
  "kernelspec": {
   "display_name": "Python 3 (ipykernel)",
   "language": "python",
   "name": "python3"
  },
  "language_info": {
   "codemirror_mode": {
    "name": "ipython",
    "version": 3
   },
   "file_extension": ".py",
   "mimetype": "text/x-python",
   "name": "python",
   "nbconvert_exporter": "python",
   "pygments_lexer": "ipython3",
   "version": "3.11.2"
  }
 },
 "nbformat": 4,
 "nbformat_minor": 5
}
